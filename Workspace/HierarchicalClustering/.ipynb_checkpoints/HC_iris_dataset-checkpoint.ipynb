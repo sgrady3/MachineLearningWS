{
 "cells": [
  {
   "cell_type": "code",
   "execution_count": null,
   "metadata": {
    "collapsed": true
   },
   "outputs": [],
   "source": [
    "import seaborn as sns; sns.set(color_codes=True)\n",
    "import pandas\n",
    "import numpy as np\n",
    "import re\n",
    "from scipy.cluster.hierarchy import linkage as link\n",
    "from scipy.cluster.hierarchy import dendrogram as dend\n",
    "from scipy.cluster.hierarchy import cut_tree as cut\n",
    "from sklearn.metrics import silhouette_samples as sk_sample\n",
    "from sklearn.metrics import silhouette_score as sk_s_score\n",
    "import matplotlib\n",
    "from matplotlib import pyplot as plt\n",
    "import matplotlib.cm as cm\n",
    "import Silhouette_plot\n",
    "import numpy as np\n",
    "from sklearn.metrics import silhouette_score as sk_s_score\n",
    "from matplotlib import pyplot as plt\n",
    "import matplotlib.cm as cm"
   ]
  },
  {
   "cell_type": "code",
   "execution_count": null,
   "metadata": {
    "collapsed": true
   },
   "outputs": [],
   "source": [
    "#### read in data ####\n",
    "data = pandas.read_csv('input/iris.csv')\n",
    "species = data.pop(\"species\")\n",
    "\n",
    "lut = dict(zip(species.unique(), \"rbg\"))\n",
    "row_colors = species.map(lut)"
   ]
  },
  {
   "cell_type": "code",
   "execution_count": null,
   "metadata": {},
   "outputs": [],
   "source": [
    "#### heatmap ####\n",
    "hm_data = sns.clustermap(data, method = 'average', metric = 'euclidean', row_colors=row_colors)\n",
    "plt.setp(hm_data.ax_heatmap.yaxis.get_majorticklabels(), rotation=0)\n",
    "\n",
    "hm_data.savefig(\"/home/jovyan/Results/Hierarchical_Clustering/01_IRIS_heatmap.png\",dpi=300)\n"
   ]
  },
  {
   "cell_type": "code",
   "execution_count": null,
   "metadata": {
    "collapsed": true
   },
   "outputs": [],
   "source": [
    "#### cluster validation with silhouette ####\n",
    "# defaults: \n",
    "# method = single, metric = euclidean (most commonly used)\n",
    "\n",
    "col_link_euc = link(data,method=\"average\",metric=\"euclidean\")"
   ]
  },
  {
   "cell_type": "code",
   "execution_count": null,
   "metadata": {
    "collapsed": true
   },
   "outputs": [],
   "source": [
    "#### 2 Clusters #####\n",
    "two_clusters = cut(col_link_euc,n_clusters=2)"
   ]
  },
  {
   "cell_type": "code",
   "execution_count": null,
   "metadata": {
    "collapsed": true
   },
   "outputs": [],
   "source": [
    "#Overall score for all the data\n",
    "s_ave_two = sk_s_score(data,metric=\"euclidean\",labels=np.ravel(two_clusters))"
   ]
  },
  {
   "cell_type": "code",
   "execution_count": null,
   "metadata": {
    "collapsed": true
   },
   "outputs": [],
   "source": [
    "#Scores for each data point\n",
    "s_sample_two = sk_sample(data,metric=\"euclidean\",labels=np.ravel(two_clusters))"
   ]
  },
  {
   "cell_type": "code",
   "execution_count": null,
   "metadata": {
    "collapsed": true
   },
   "outputs": [],
   "source": [
    "#Plot silhouette\n",
    "\n",
    "Silhouette_plot.s_plot(data,s_sample_two,two_clusters,show_plot=False,save_dir=\"/home/jovyan/Results/Hierarchical_Clustering/02_IRIS_two_cluster_silhouette_avg\")"
   ]
  },
  {
   "cell_type": "code",
   "execution_count": null,
   "metadata": {
    "collapsed": true
   },
   "outputs": [],
   "source": [
    "#### 3 Clusters ####\n",
    "three_clusters = cut(col_link_euc,n_clusters=3)"
   ]
  },
  {
   "cell_type": "code",
   "execution_count": null,
   "metadata": {
    "collapsed": true
   },
   "outputs": [],
   "source": [
    "#Overall score for all the data\n",
    "s_ave_three = sk_s_score(data,metric=\"euclidean\",labels=np.ravel(three_clusters))"
   ]
  },
  {
   "cell_type": "code",
   "execution_count": null,
   "metadata": {
    "collapsed": true
   },
   "outputs": [],
   "source": [
    "#Scores for each data point\n",
    "s_sample_three = sk_sample(data,metric=\"euclidean\",labels=np.ravel(three_clusters))\n"
   ]
  },
  {
   "cell_type": "code",
   "execution_count": null,
   "metadata": {
    "collapsed": true
   },
   "outputs": [],
   "source": [
    "#Plot silhouette\n",
    "Silhouette_plot.s_plot(data,s_sample_three,three_clusters,show_plot=False,save_dir=\"/home/jovyan/Results/Hierarchical_Clustering/03_IRIS_three_cluster_silhouette_avg\")"
   ]
  }
 ],
 "metadata": {
  "kernelspec": {
   "display_name": "Python 2",
   "language": "python",
   "name": "python2"
  },
  "language_info": {
   "codemirror_mode": {
    "name": "ipython",
    "version": 2
   },
   "file_extension": ".py",
   "mimetype": "text/x-python",
   "name": "python",
   "nbconvert_exporter": "python",
   "pygments_lexer": "ipython2",
   "version": "2.7.13"
  }
 },
 "nbformat": 4,
 "nbformat_minor": 2
}
