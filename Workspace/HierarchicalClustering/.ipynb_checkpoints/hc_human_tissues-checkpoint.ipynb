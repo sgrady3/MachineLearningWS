{
 "cells": [
  {
   "cell_type": "code",
   "execution_count": null,
   "metadata": {
    "collapsed": true,
    "deletable": true,
    "editable": true
   },
   "outputs": [],
   "source": [
    "import pandas\n",
    "import numpy as np\n",
    "import seaborn\n",
    "import re\n",
    "from scipy.cluster.hierarchy import linkage as link\n",
    "from scipy.cluster.hierarchy import dendrogram as dend\n",
    "from scipy.cluster.hierarchy import cut_tree as cut\n",
    "from sklearn.metrics import silhouette_samples as sk_sample\n",
    "from sklearn.metrics import silhouette_score as sk_s_score\n",
    "from sklearn import preprocessing\n",
    "import matplotlib\n",
    "from matplotlib import pyplot as plt\n",
    "import matplotlib.cm as cm\n",
    "import Silhouette_plot"
   ]
  },
  {
   "cell_type": "code",
   "execution_count": null,
   "metadata": {
    "collapsed": true,
    "deletable": true,
    "editable": true
   },
   "outputs": [],
   "source": [
    "data = pandas.read_csv('input/Gene_40.csv',index_col='Unnamed: 0')\n"
   ]
  },
  {
   "cell_type": "code",
   "execution_count": null,
   "metadata": {
    "collapsed": true,
    "deletable": true,
    "editable": true
   },
   "outputs": [],
   "source": [
    "#Cleaning up columnames for aesthetic reasons\n",
    "m = list(data)\n",
    "celltypes = [re.sub(r'\\.\\d+','',i)for i in m]\n",
    "newcols = dict(zip(m,celltypes))\n",
    "data.rename(columns=newcols,inplace = True)"
   ]
  },
  {
   "cell_type": "code",
   "execution_count": null,
   "metadata": {
    "collapsed": true,
    "deletable": true,
    "editable": true
   },
   "outputs": [],
   "source": [
    "# #####################\n",
    "# #  default settings #\n",
    "# #####################\n",
    "# \n",
    "# # defaults: \n",
    "# # method = average, metric = euclidean (most commonly used), row_cluster=True, col_cluster=True\n",
    "# \n",
    "hm_default = seaborn.clustermap(data)\n",
    "# \n",
    "# #saves image to file\n",
    "hm_default.savefig(\"/home/jovyan/Results/Hierarchical_Clustering/05_genes_40_clustered_default.png\",dpi=300)\n",
    "matplotlib.pyplot.close()"
   ]
  },
  {
   "cell_type": "code",
   "execution_count": null,
   "metadata": {
    "collapsed": true,
    "deletable": true,
    "editable": true
   },
   "outputs": [],
   "source": [
    "# ##################\n",
    "# #  reformatting  #\n",
    "# ##################\n",
    "# \n",
    "hm_labels = seaborn.clustermap(data,cmap=\"Oranges\")\n",
    "# \n",
    "plt.setp(hm_labels.ax_heatmap.xaxis.get_majorticklabels(), rotation=90)\n",
    "plt.setp(hm_labels.ax_heatmap.yaxis.get_majorticklabels(), rotation=0)\n",
    "# \n",
    "# #saves image to file\n",
    "hm_labels.savefig(\"/home/jovyan/Results/Hierarchical_Clustering/06_genes_40_clustered_reformatting.png\",dpi=300)\n",
    "matplotlib.pyplot.close()"
   ]
  },
  {
   "cell_type": "code",
   "execution_count": null,
   "metadata": {
    "collapsed": true,
    "deletable": true,
    "editable": true
   },
   "outputs": [],
   "source": [
    "# #####################\n",
    "# # method = complete #\n",
    "# #####################\n",
    "# \n",
    "hm_complete = seaborn.clustermap(data,method = 'complete',metric='euclidean', cmap=\"Blues\")\n",
    "# \n",
    "plt.setp(hm_complete.ax_heatmap.xaxis.get_majorticklabels(), rotation=90)\n",
    "plt.setp(hm_complete.ax_heatmap.yaxis.get_majorticklabels(), rotation=0)\n",
    "# \n",
    "hm_complete.savefig(\"/home/jovyan/Results/Hierarchical_Clustering/07_genes_40_clustered_complete.png\",dpi=300)\n",
    "matplotlib.pyplot.close()"
   ]
  },
  {
   "cell_type": "code",
   "execution_count": null,
   "metadata": {
    "collapsed": true,
    "deletable": true,
    "editable": true
   },
   "outputs": [],
   "source": [
    "# ####################\n",
    "# #  method = single #\n",
    "# ####################\n",
    "# \n",
    "hm_single = seaborn.clustermap(data,method = 'single',metric='euclidean', cmap=\"Greens\")\n",
    "# \n",
    "plt.setp(hm_single.ax_heatmap.xaxis.get_majorticklabels(), rotation=90)\n",
    "plt.setp(hm_single.ax_heatmap.yaxis.get_majorticklabels(), rotation=0)\n",
    "# \n",
    "hm_single.savefig(\"/home/jovyan/Results/Hierarchical_Clustering/08_genes_40_clustered_single.png\",dpi=300)\n",
    "matplotlib.pyplot.close()"
   ]
  },
  {
   "cell_type": "code",
   "execution_count": null,
   "metadata": {
    "collapsed": true,
    "deletable": true,
    "editable": true
   },
   "outputs": [],
   "source": [
    "# ##################\n",
    "# # larger dataset #\n",
    "# ##################\n",
    "# \n",
    "data = pandas.read_csv('input/Gene_2000.csv',index_col='Unnamed: 0')\n",
    "# \n",
    "m = list(data)\n",
    "celltypes = [re.sub(r'\\.\\d+','',i)for i in m]\n",
    "newcols = dict(zip(m,celltypes))\n",
    "data.rename(columns=newcols,inplace = True)\n",
    "# \n",
    "hm_genes_2000_complete = seaborn.clustermap(data,method = 'complete',metric='euclidean', cmap=\"Blues\")\n",
    "# \n",
    "plt.setp(hm_genes_2000_complete.ax_heatmap.xaxis.get_majorticklabels(), rotation=90)\n",
    "plt.setp(hm_genes_2000_complete.ax_heatmap.yaxis.get_majorticklabels(), rotation=0)\n",
    "# \n",
    "hm_genes_2000_complete.savefig(\"/home/jovyan/Results/Hierarchical_Clustering/09_genes_2000_clustered_complete.png\",dpi=300)\n",
    "matplotlib.pyplot.close()\n"
   ]
  },
  {
   "cell_type": "code",
   "execution_count": null,
   "metadata": {
    "collapsed": true,
    "deletable": true,
    "editable": true
   },
   "outputs": [],
   "source": [
    "###############\n",
    "#  Dendrogram #\n",
    "###############\n",
    "\n",
    "# defaults: \n",
    "# method = single, metric = euclidean (most commonly used)\n",
    "plt.ioff()\n",
    "\n",
    "#using euclidean distance, average linkage works but has many \"clusters\" with single leaf\n",
    "d = data.transpose()\n",
    "d_scale = preprocessing.scale(d)\n",
    "col_link_euc = link(d_scale,method=\"average\",metric=\"euclidean\")\n",
    "fig_size = matplotlib.pyplot.rcParams[\"figure.figsize\"]\n",
    "fig_size[0] = 20\n",
    "fig_size[1] = 10\n",
    "matplotlib.pyplot.rcParams[\"figure.figsize\"] = fig_size\n",
    "\n",
    "den_euc = dend(col_link_euc,labels=list(data))\n",
    "\n",
    "plt.gcf()\n",
    "plt.savefig(\"/home/jovyan/Results/Hierarchical_Clustering/10_Euclidean dendrogram_avg_scaled.png\",dpi=300)\n",
    "plt.close('all')"
   ]
  },
  {
   "cell_type": "code",
   "execution_count": null,
   "metadata": {
    "collapsed": true,
    "deletable": true,
    "editable": true
   },
   "outputs": [],
   "source": [
    "######################\n",
    "# Cut the Dendrogram #\n",
    "######################\n",
    "\n",
    "three_clusters = cut(col_link_euc,n_clusters=3)"
   ]
  },
  {
   "cell_type": "code",
   "execution_count": null,
   "metadata": {
    "collapsed": true,
    "deletable": true,
    "editable": true
   },
   "outputs": [],
   "source": [
    "############################\n",
    "# Evaluating your clusters #\n",
    "############################\n",
    "\n",
    "#Calculate Silhouette metric\n",
    "#Overall score for all the data for cluster size 3\n",
    "s_ave_three = sk_s_score(data.transpose(),metric=\"euclidean\",labels=np.ravel(three_clusters))\n",
    "\n",
    "#Scores for each data point for cluster size 3\n",
    "s_sample_three = sk_sample(data.transpose(),metric=\"euclidean\",labels=np.ravel(three_clusters))\n",
    "\n",
    "#Plot Silhouette\n",
    "Silhouette_plot.s_plot(d_scale,s_sample_three,three_clusters,show_plot=False,save_dir=\"/home/jovyan/Results/Hierarchical_Clustering/11_Three_cluster_Silhouette_avg_scaled\",dpi=300)\n",
    "plt.close('all')\n",
    "\n",
    "#compare different # of clusters\n",
    "four_clusters = cut(col_link_euc,n_clusters=4)\n",
    "five_clusters = cut(col_link_euc,n_clusters=5)\n",
    "six_clusters = cut(col_link_euc,n_clusters=6)\n",
    "\n",
    "s_sample_four = sk_sample(data.transpose(),metric=\"euclidean\",labels=np.ravel(four_clusters))\n",
    "s_sample_five = sk_sample(data.transpose(),metric=\"euclidean\",labels=np.ravel(five_clusters))\n",
    "s_sample_six = sk_sample(data.transpose(),metric=\"euclidean\",labels=np.ravel(six_clusters))\n",
    "\n",
    "Silhouette_plot.s_plot(data.transpose(),s_sample_four,four_clusters,show_plot=False,save_dir=\"/home/jovyan/Results/Hierarchical_Clustering/11_Four_cluster_Silhouette_avg_scaled\",dpi=300)\n",
    "plt.close('all')\n",
    "Silhouette_plot.s_plot(data.transpose(),s_sample_five,five_clusters,show_plot=False,save_dir=\"/home/jovyan/Results/Hierarchical_Clustering/11_Five_cluster_Silhouette_avg_scaled\",dpi=300)\n",
    "plt.close('all')\n",
    "Silhouette_plot.s_plot(data.transpose(),s_sample_six,six_clusters,show_plot=False,save_dir=\"/home/jovyan/Results/Hierarchical_Clustering/11_Six_cluster_Silhouette_avg_scaled\",dpi=300)\n",
    "plt.close('all')\n"
   ]
  },
  {
   "cell_type": "code",
   "execution_count": null,
   "metadata": {
    "collapsed": true,
    "deletable": true,
    "editable": true
   },
   "outputs": [],
   "source": [
    "###################################\n",
    "# Create gene lists from clusters #\n",
    "###################################\n",
    "\n",
    "c0 = [index for index, item in enumerate(three_clusters) if item==0]\n",
    "c1 = [index for index, item in enumerate(three_clusters) if item==1]\n",
    "c2 = [index for index, item in enumerate(three_clusters) if item==2]\n",
    "\n",
    "cluster0 = data.iloc[:,c0]\n",
    "cluster1 = data.iloc[:,c1]\n",
    "cluster2 = data.iloc[:,c2]\n",
    "\n",
    "pandas.DataFrame.to_csv(cluster0,\"/home/jovyan/Results/Hierarchical_Clustering/12_Euclidean_avg_cluster0.csv\")\n",
    "pandas.DataFrame.to_csv(cluster1,\"/home/jovyan/Results/Hierarchical_Clustering/12_Euclidean_avg_cluster1.csv\")\n",
    "pandas.DataFrame.to_csv(cluster2,\"/home/jovyan/Results/Hierarchical_Clustering/12_Euclidean_avg_cluster2.csv\")"
   ]
  }
 ],
 "metadata": {
  "kernelspec": {
   "display_name": "Python 3",
   "language": "python",
   "name": "python3"
  },
  "language_info": {
   "codemirror_mode": {
    "name": "ipython",
    "version": 3
   },
   "file_extension": ".py",
   "mimetype": "text/x-python",
   "name": "python",
   "nbconvert_exporter": "python",
   "pygments_lexer": "ipython3",
   "version": "3.5.2"
  }
 },
 "nbformat": 4,
 "nbformat_minor": 2
}
