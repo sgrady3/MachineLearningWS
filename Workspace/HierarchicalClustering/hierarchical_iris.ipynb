{
 "cells": [
  {
   "cell_type": "code",
   "execution_count": null,
   "metadata": {
    "collapsed": true
   },
   "outputs": [],
   "source": [
    "import seaborn as sns; sns.set(color_codes=True)\n",
    "import pandas\n",
    "import numpy as np\n",
    "import re\n",
    "from scipy.cluster.hierarchy import linkage as link\n",
    "from scipy.cluster.hierarchy import dendrogram as dend\n",
    "from scipy.cluster.hierarchy import cut_tree as cut\n",
    "from sklearn.metrics import silhouette_samples as sk_sample\n",
    "from sklearn.metrics import silhouette_score as sk_s_score\n",
    "import matplotlib\n",
    "from matplotlib import pyplot as plt\n",
    "import matplotlib.cm as cm\n",
    "import Silhouette_plot\n",
    "import numpy as np\n",
    "from sklearn.metrics import silhouette_score as sk_s_score\n",
    "from matplotlib import pyplot as plt\n",
    "import matplotlib.cm as cm"
   ]
  },
  {
   "cell_type": "code",
   "execution_count": null,
   "metadata": {
    "collapsed": true
   },
   "outputs": [],
   "source": [
    "#### heatmap ####\n",
    "data = sns.load_dataset(\"iris\")\n",
    "species = data.pop(\"species\")\n",
    "\n",
    "lut = dict(zip(species.unique(), \"rbg\"))\n",
    "row_colors = species.map(lut)\n",
    "\n",
    "hm_data = sns.clustermap(data, method = 'average', metric = 'euclidean', row_colors=row_colors)\n",
    "plt.setp(hm_data.ax_heatmap.yaxis.get_majorticklabels(), rotation=0)\n",
    "\n",
    "hm_data.savefig(\"output/iris_heatmap.png\",dpi=300)\n"
   ]
  },
  {
   "cell_type": "code",
   "execution_count": null,
   "metadata": {
    "collapsed": true
   },
   "outputs": [],
   "source": [
    "#### silhouette ####\n",
    "# defaults: \n",
    "# method = single, metric = euclidean (most commonly used)\n",
    "\n",
    "col_link_euc = link(data.transpose(),method=\"average\",metric=\"euclidean\")\n"
   ]
  },
  {
   "cell_type": "code",
   "execution_count": null,
   "metadata": {
    "collapsed": true
   },
   "outputs": [],
   "source": [
    "#Calculate silhouette metric for two clusters\n",
    "#Overall score for all the data\n",
    "\n",
    "two_clusters = cut(col_link_euc,n_clusters=2)\n",
    "s_ave_two = sk_s_score(data.transpose(),metric=\"euclidean\",labels=np.ravel(two_clusters))\n",
    "#Scores for each data point\n",
    "s_sample_two = sk_sample(data.transpose(),metric=\"euclidean\",labels=np.ravel(two_clusters))"
   ]
  },
  {
   "cell_type": "code",
   "execution_count": null,
   "metadata": {
    "collapsed": true
   },
   "outputs": [],
   "source": [
    "#Plot silhouette\n",
    "\n",
    "Silhouette_plot.s_plot(data.transpose(),s_sample_two,two_clusters,show_plot=False,save_dir=\"output/two_cluster_silhouette_avg\")"
   ]
  },
  {
   "cell_type": "code",
   "execution_count": null,
   "metadata": {
    "collapsed": true
   },
   "outputs": [],
   "source": [
    "#Calculate silhouette metric for three clusters\n",
    "\n",
    "#Overall score for all the data\n",
    "three_clusters = cut(col_link_euc,n_clusters=3)\n",
    "s_ave_three = sk_s_score(data.transpose(),metric=\"euclidean\",labels=np.ravel(three_clusters))"
   ]
  },
  {
   "cell_type": "code",
   "execution_count": null,
   "metadata": {
    "collapsed": true
   },
   "outputs": [],
   "source": []
  }
 ],
 "metadata": {
  "kernelspec": {
   "display_name": "Python 2",
   "language": "python",
   "name": "python2"
  },
  "language_info": {
   "codemirror_mode": {
    "name": "ipython",
    "version": 2
   },
   "file_extension": ".py",
   "mimetype": "text/x-python",
   "name": "python",
   "nbconvert_exporter": "python",
   "pygments_lexer": "ipython2",
   "version": "2.7.13"
  }
 },
 "nbformat": 4,
 "nbformat_minor": 2
}
