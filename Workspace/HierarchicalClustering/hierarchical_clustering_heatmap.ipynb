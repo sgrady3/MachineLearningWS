{
 "cells": [
  {
   "cell_type": "code",
   "execution_count": null,
   "metadata": {
    "collapsed": true
   },
   "outputs": [],
   "source": [
    "import pandas\n",
    "import numpy as np\n",
    "import seaborn\n",
    "import re\n",
    "from scipy.cluster.hierarchy import linkage as link\n",
    "from scipy.cluster.hierarchy import dendrogram as dend\n",
    "from scipy.cluster.hierarchy import cut_tree as cut\n",
    "from sklearn.metrics import silhouette_samples as sk_sample\n",
    "from sklearn.metrics import silhouette_score as sk_s_score\n",
    "from sklearn import preprocessing\n",
    "import matplotlib\n",
    "from matplotlib import pyplot as plt\n",
    "import matplotlib.cm as cm\n",
    "import Silhouette_plot"
   ]
  },
  {
   "cell_type": "code",
   "execution_count": null,
   "metadata": {
    "collapsed": true
   },
   "outputs": [],
   "source": [
    "data = pandas.read_csv('input/Gene_40.csv',index_col='Unnamed: 0')\n"
   ]
  },
  {
   "cell_type": "code",
   "execution_count": null,
   "metadata": {
    "collapsed": true
   },
   "outputs": [],
   "source": [
    "#Cleaning up columnames for aesthetic reasons\n",
    "m = list(data)\n",
    "celltypes = [re.sub(r'\\.\\d+','',i)for i in m]\n",
    "newcols = dict(zip(m,celltypes))\n",
    "data.rename(columns=newcols,inplace = True)"
   ]
  },
  {
   "cell_type": "code",
   "execution_count": null,
   "metadata": {
    "collapsed": true
   },
   "outputs": [],
   "source": [
    "# #######################\n",
    "# # 1. default settings #\n",
    "# #######################\n",
    "# \n",
    "# # defaults: \n",
    "# # method = average, metric = euclidean (most commonly used), row_cluster=True, col_cluster=True\n",
    "# \n",
    "hm_default = seaborn.clustermap(data)\n",
    "# \n",
    "# #saves image to file\n",
    "hm_default.savefig(\"/home/jovyan/Results/Hierarchical_Clustering/1_genes_40_clustered_default.png\",dpi=300)\n",
    "matplotlib.pyplot.close()"
   ]
  },
  {
   "cell_type": "code",
   "execution_count": null,
   "metadata": {
    "collapsed": true
   },
   "outputs": [],
   "source": [
    "# ####################\n",
    "# # 2. rotate labels #\n",
    "# ####################\n",
    "# \n",
    "hm_labels = seaborn.clustermap(data)\n",
    "# \n",
    "plt.setp(hm_labels.ax_heatmap.xaxis.get_majorticklabels(), rotation=90)\n",
    "plt.setp(hm_labels.ax_heatmap.yaxis.get_majorticklabels(), rotation=0)\n",
    "# \n",
    "# #saves image to file\n",
    "hm_labels.savefig(\"/home/jovyan/Results/Hierarchical_Clustering/2_genes_40_clustered_labels.png\",dpi=300)\n",
    "matplotlib.pyplot.close()"
   ]
  },
  {
   "cell_type": "code",
   "execution_count": null,
   "metadata": {
    "collapsed": true
   },
   "outputs": [],
   "source": [
    "# ####################\n",
    "# # 3. change colors #\n",
    "# ####################\n",
    "# \n",
    " hm_colors = seaborn.clustermap(data, cmap=\"Oranges\")\n",
    "# \n",
    "plt.setp(hm_colors.ax_heatmap.xaxis.get_majorticklabels(), rotation=90)\n",
    "plt.setp(hm_colors.ax_heatmap.yaxis.get_majorticklabels(), rotation=0)\n",
    "# \n",
    "# #saves image to file\n",
    "hm_colors.savefig(\"/home/jovyan/Results/Hierarchical_Clustering/3_genes_40_clustered_colors.png\",dpi=300)\n",
    "matplotlib.pyplot.close()"
   ]
  },
  {
   "cell_type": "code",
   "execution_count": null,
   "metadata": {
    "collapsed": true
   },
   "outputs": [],
   "source": [
    "# #######################\n",
    "# # 4. method = average #\n",
    "# #######################\n",
    "# \n",
    "hm_average = seaborn.clustermap(data,method = 'average',metric='euclidean', cmap=\"Oranges\")\n",
    "# \n",
    "plt.setp(hm_average.ax_heatmap.xaxis.get_majorticklabels(), rotation=90)\n",
    "plt.setp(hm_average.ax_heatmap.yaxis.get_majorticklabels(), rotation=0)\n",
    "# \n",
    "hm_average.savefig(\"/home/jovyan/Results/Hierarchical_Clustering/4_genes_40_clustered_average.png\",dpi=300)\n",
    "matplotlib.pyplot.close()"
   ]
  },
  {
   "cell_type": "code",
   "execution_count": null,
   "metadata": {
    "collapsed": true
   },
   "outputs": [],
   "source": [
    "# ########################\n",
    "# # 5. method = complete #\n",
    "# ########################\n",
    "# \n",
    "hm_complete = seaborn.clustermap(data,method = 'complete',metric='euclidean', cmap=\"Blues\")\n",
    "# \n",
    "plt.setp(hm_complete.ax_heatmap.xaxis.get_majorticklabels(), rotation=90)\n",
    "plt.setp(hm_complete.ax_heatmap.yaxis.get_majorticklabels(), rotation=0)\n",
    "# \n",
    "hm_complete.savefig(\"/home/jovyan/Results/Hierarchical_Clustering/5_genes_40_clustered_complete.png\",dpi=300)\n",
    "matplotlib.pyplot.close()"
   ]
  },
  {
   "cell_type": "code",
   "execution_count": null,
   "metadata": {
    "collapsed": true
   },
   "outputs": [],
   "source": [
    "# ######################\n",
    "# # 6. method = single #\n",
    "# ######################\n",
    "# \n",
    "hm_single = seaborn.clustermap(data,method = 'single',metric='euclidean', cmap=\"Greens\")\n",
    "# \n",
    "plt.setp(hm_single.ax_heatmap.xaxis.get_majorticklabels(), rotation=90)\n",
    "plt.setp(hm_single.ax_heatmap.yaxis.get_majorticklabels(), rotation=0)\n",
    "# \n",
    "hm_single.savefig(\"/home/jovyan/Results/Hierarchical_Clustering/6_genes_40_clustered_single.png\",dpi=300)\n",
    "matplotlib.pyplot.close()"
   ]
  },
  {
   "cell_type": "code",
   "execution_count": null,
   "metadata": {
    "collapsed": true
   },
   "outputs": [],
   "source": [
    "# ########################\n",
    "# # 7. method = centroid #\n",
    "# ########################\n",
    "# \n",
    "hm_centroid = seaborn.clustermap(data,method = 'centroid',metric='euclidean', cmap=\"Purples\")\n",
    "# \n",
    "plt.setp(hm_centroid.ax_heatmap.xaxis.get_majorticklabels(), rotation=90)\n",
    "plt.setp(hm_centroid.ax_heatmap.yaxis.get_majorticklabels(), rotation=0)\n",
    "# \n",
    "hm_centroid.savefig(\"/home/jovyan/Results/Hierarchical_Clustering/7_genes_40_clustered_centroid.png\",dpi=300)\n",
    "matplotlib.pyplot.close()"
   ]
  },
  {
   "cell_type": "code",
   "execution_count": null,
   "metadata": {
    "collapsed": true
   },
   "outputs": [],
   "source": [
    "# #####################\n",
    "# # 8. larger dataset #\n",
    "# #####################\n",
    "# \n",
    "data = pandas.read_csv('input/Gene_2000.csv',index_col='Unnamed: 0')\n",
    "# \n",
    "m = list(data)\n",
    "celltypes = [re.sub(r'\\.\\d+','',i)for i in m]\n",
    "newcols = dict(zip(m,celltypes))\n",
    "data.rename(columns=newcols,inplace = True)\n",
    "# \n",
    "hm_genes_2000_complete = seaborn.clustermap(data,method = 'complete',metric='euclidean', cmap=\"Blues\")\n",
    "# \n",
    "plt.setp(hm_genes_2000_complete.ax_heatmap.xaxis.get_majorticklabels(), rotation=90)\n",
    "plt.setp(hm_genes_2000_complete.ax_heatmap.yaxis.get_majorticklabels(), rotation=0)\n",
    "# \n",
    "hm_genes_2000_complete.savefig(\"/home/jovyan/Results/Hierarchical_Clustering/8_genes_2000_clustered_complete.png\",dpi=300)\n",
    "matplotlib.pyplot.close()\n"
   ]
  },
  {
   "cell_type": "code",
   "execution_count": null,
   "metadata": {
    "collapsed": true
   },
   "outputs": [],
   "source": [
    "##################\n",
    "# 9. Dendrogram #\n",
    "##################\n",
    "\n",
    "# defaults: \n",
    "# method = single, metric = euclidean (most commonly used)\n",
    "plt.ioff()\n",
    "\n",
    "#using euclidean distance, average linkage works but has many \"clusters\" with single leaf\n",
    "d = data.transpose()\n",
    "d_scale = preprocessing.scale(d)\n",
    "col_link_euc = link(d_scale,method=\"average\",metric=\"euclidean\")\n",
    "fig_size = matplotlib.pyplot.rcParams[\"figure.figsize\"]\n",
    "fig_size[0] = 20\n",
    "fig_size[1] = 10\n",
    "matplotlib.pyplot.rcParams[\"figure.figsize\"] = fig_size\n",
    "\n",
    "den_euc = dend(col_link_euc,labels=list(data))\n",
    "\n",
    "plt.gcf()\n",
    "plt.savefig(\"/home/jovyan/Results/Hierarchical_Clustering/Euclidean dendrogram_avg_scaled.png\",dpi=600)\n",
    "plt.close('all')"
   ]
  },
  {
   "cell_type": "code",
   "execution_count": null,
   "metadata": {
    "collapsed": true
   },
   "outputs": [],
   "source": [
    "##########################\n",
    "# 10. Cut the Dendrogram #\n",
    "##########################\n",
    "\n",
    "three_clusters = cut(col_link_euc,n_clusters=3)"
   ]
  },
  {
   "cell_type": "code",
   "execution_count": null,
   "metadata": {
    "collapsed": true
   },
   "outputs": [],
   "source": [
    "################################\n",
    "# 11. Evaluating your clusters #\n",
    "################################\n",
    "\n",
    "#Calculate Silhouette metric\n",
    "#Overall score for all the data for cluster size 3\n",
    "s_ave_three = sk_s_score(data.transpose(),metric=\"euclidean\",labels=np.ravel(three_clusters))\n",
    "\n",
    "#Scores for each data point for cluster size 3\n",
    "s_sample_three = sk_sample(data.transpose(),metric=\"euclidean\",labels=np.ravel(three_clusters))\n",
    "\n",
    "#Plot Silhouette\n",
    "Silhouette_plot.s_plot(d_scale,s_sample_three,three_clusters,show_plot=False,save_dir=\"/home/jovyan/Results/Hierarchical_Clustering/Three_cluster_Silhouette_avg_scaled\")\n",
    "plt.close('all')\n",
    "\n",
    "#compare different # of clusters\n",
    "four_clusters = cut(col_link_euc,n_clusters=4)\n",
    "five_clusters = cut(col_link_euc,n_clusters=5)\n",
    "six_clusters = cut(col_link_euc,n_clusters=6)\n",
    "seven_clusters = cut(col_link_euc,n_clusters=7)\n",
    "ten_clusters = cut(col_link_euc,n_clusters=10)\n",
    "\n",
    "s_sample_four = sk_sample(data.transpose(),metric=\"euclidean\",labels=np.ravel(four_clusters))\n",
    "s_sample_five = sk_sample(data.transpose(),metric=\"euclidean\",labels=np.ravel(five_clusters))\n",
    "s_sample_six = sk_sample(data.transpose(),metric=\"euclidean\",labels=np.ravel(six_clusters))\n",
    "s_sample_seven = sk_sample(data.transpose(),metric=\"euclidean\",labels=np.ravel(seven_clusters))\n",
    "s_sample_ten = sk_sample(data.transpose(),metric=\"euclidean\",labels=np.ravel(ten_clusters))\n",
    "\n",
    "Silhouette_plot.s_plot(data.transpose(),s_sample_four,four_clusters,show_plot=False,save_dir=\"/home/jovyan/Results/Hierarchical_Clustering/Four_cluster_Silhouette_avg_scaled\")\n",
    "plt.close('all')\n",
    "Silhouette_plot.s_plot(data.transpose(),s_sample_five,five_clusters,show_plot=False,save_dir=\"/home/jovyan/Results/Hierarchical_Clustering/Five_cluster_Silhouette_avg_scaled\")\n",
    "plt.close('all')\n",
    "Silhouette_plot.s_plot(data.transpose(),s_sample_six,six_clusters,show_plot=False,save_dir=\"/home/jovyan/Results/Hierarchical_Clustering/Six_cluster_Silhouette_avg_scaled\")\n",
    "plt.close('all')\n",
    "Silhouette_plot.s_plot(data.transpose(),s_sample_seven,seven_clusters,show_plot=False,save_dir=\"/home/jovyan/Results/Hierarchical_Clustering/Seven_cluster_Silhouette_avg_scaled\")\n",
    "plt.close('all')\n",
    "Silhouette_plot.s_plot(data.transpose(),s_sample_ten,ten_clusters,show_plot=False,save_dir=\"/home/jovyan/Results/Hierarchical_Clustering/Ten_cluster_Silhouette_avg_scaled\")\n",
    "plt.close('all')\n"
   ]
  },
  {
   "cell_type": "code",
   "execution_count": null,
   "metadata": {
    "collapsed": true
   },
   "outputs": [],
   "source": [
    "#######################################\n",
    "# 12. Create gene lists from clusters #\n",
    "#######################################\n",
    "\n",
    "c0 = [index for index, item in enumerate(three_clusters) if item==0]\n",
    "c1 = [index for index, item in enumerate(three_clusters) if item==1]\n",
    "c2 = [index for index, item in enumerate(three_clusters) if item==2]\n",
    "\n",
    "cluster0 = data.iloc[:,c0]\n",
    "cluster1 = data.iloc[:,c1]\n",
    "cluster2 = data.iloc[:,c2]\n",
    "\n",
    "pandas.DataFrame.to_csv(cluster0,\"/home/jovyan/Results/Hierarchical_Clustering/Euclidean_avg_cluster0.csv\")\n",
    "pandas.DataFrame.to_csv(cluster1,\"/home/jovyan/Results/Hierarchical_Clustering/Euclidean_avg_cluster1.csv\")\n",
    "pandas.DataFrame.to_csv(cluster2,\"/home/jovyan/Results/Hierarchical_Clustering/Euclidean_avg_cluster2.csv\")"
   ]
  },
  {
   "cell_type": "code",
   "execution_count": null,
   "metadata": {
    "collapsed": true
   },
   "outputs": [],
   "source": [
    "##################################\n",
    "# 13. Example using ward distace # \n",
    "##################################\n",
    "\n",
    "#using euclidean distance, ward linkage\n",
    "d=data.transpose()\n",
    "col_link_euc_ward = link(preprocessing.scale(d),method=\"ward\",metric=\"euclidean\")\n",
    "fig_size = matplotlib.pyplot.rcParams[\"figure.figsize\"]\n",
    "fig_size[0] = 20\n",
    "fig_size[1] = 10\n",
    "matplotlib.pyplot.rcParams[\"figure.figsize\"] = fig_size\n",
    "\n",
    "den_euc = dend(col_link_euc_ward,labels=list(data))\n",
    "\n",
    "plt.gcf()\n",
    "plt.savefig(\"/home/jovyan/Results/Hierarchical_Clustering/Euclidean dendrogram_ward_scaled.png\",dpi=600)\n",
    "plt.close('all')\n",
    "\n",
    "\n",
    "#compare different # of clusters\n",
    "three_clusters = cut(col_link_euc_ward,n_clusters=3)\n",
    "four_clusters = cut(col_link_euc_ward,n_clusters=4)\n",
    "five_clusters = cut(col_link_euc_ward,n_clusters=5)\n",
    "six_clusters = cut(col_link_euc_ward,n_clusters=6)\n",
    "seven_clusters = cut(col_link_euc_ward,n_clusters=7)\n",
    "ten_clusters = cut(col_link_euc_ward,n_clusters=10)\n",
    "\n",
    "#Overall score for all the data for cluster size 3\n",
    "\n",
    "s_ave_three = sk_s_score(data.transpose(),metric=\"euclidean\",labels=np.ravel(three_clusters))\n",
    "\n",
    "#Sample scores\n",
    "s_sample_three = sk_sample(data.transpose(),metric=\"euclidean\",labels=np.ravel(three_clusters))\n",
    "s_sample_four = sk_sample(data.transpose(),metric=\"euclidean\",labels=np.ravel(four_clusters))\n",
    "s_sample_five = sk_sample(data.transpose(),metric=\"euclidean\",labels=np.ravel(five_clusters))\n",
    "s_sample_six = sk_sample(data.transpose(),metric=\"euclidean\",labels=np.ravel(six_clusters))\n",
    "s_sample_seven = sk_sample(data.transpose(),metric=\"euclidean\",labels=np.ravel(seven_clusters))\n",
    "s_sample_ten = sk_sample(data.transpose(),metric=\"euclidean\",labels=np.ravel(ten_clusters))\n",
    "\n",
    "Silhouette_plot.s_plot(data.transpose(),s_sample_three,three_clusters,show_plot=False,save_dir=\"/home/jovyan/Results/Hierarchical_Clustering/Three_cluster_Silhouette_ward_scaled\")\n",
    "plt.close('all')\n",
    "Silhouette_plot.s_plot(data.transpose(),s_sample_four,four_clusters,show_plot=False,save_dir=\"/home/jovyan/Results/Hierarchical_Clustering/Four_cluster_Silhouette_ward_scaled\")\n",
    "plt.close('all')\n",
    "Silhouette_plot.s_plot(data.transpose(),s_sample_five,five_clusters,show_plot=False,save_dir=\"/home/jovyan/Results/Hierarchical_Clustering/Five_cluster_Silhouette_ward_scaled\")\n",
    "plt.close('all')\n",
    "Silhouette_plot.s_plot(data.transpose(),s_sample_six,six_clusters,show_plot=False,save_dir=\"/home/jovyan/Results/Hierarchical_Clustering/Six_cluster_Silhouette_ward_scaled\")\n",
    "plt.close('all')\n",
    "Silhouette_plot.s_plot(data.transpose(),s_sample_seven,seven_clusters,show_plot=False,save_dir=\"/home/jovyan/Results/Hierarchical_Clustering/Seven_cluster_Silhouette_ward_scaled\")\n",
    "plt.close('all')\n",
    "Silhouette_plot.s_plot(data.transpose(),s_sample_ten,ten_clusters,show_plot=False,save_dir=\"/home/jovyan/Results/Hierarchical_Clustering/Ten_cluster_Silhouette_ward_scaled\")\n",
    "plt.close('all')\n",
    "\n",
    "#ward gene list\n",
    "\n",
    "c0 = [index for index, item in enumerate(three_clusters) if item==0]\n",
    "c1 = [index for index, item in enumerate(three_clusters) if item==1]\n",
    "c2 = [index for index, item in enumerate(three_clusters) if item==2]\n",
    "\n",
    "cluster0 = data.iloc[:,c0]\n",
    "cluster1 = data.iloc[:,c1]\n",
    "cluster2 = data.iloc[:,c2]\n",
    "\n",
    "pandas.DataFrame.to_csv(cluster0,\"/home/jovyan/Results/Hierarchical_Clustering/Euclidean_Ward_cluster0.csv\")\n",
    "pandas.DataFrame.to_csv(cluster1,\"/home/jovyan/Results/Hierarchical_Clustering/Euclidean_Ward_cluster1.csv\")\n",
    "pandas.DataFrame.to_csv(cluster2,\"/home/jovyan/Results/Hierarchical_Clustering/Euclidean_Ward_cluster2.csv\")\n"
   ]
  }
 ],
 "metadata": {
  "kernelspec": {
   "display_name": "Python 2",
   "language": "python",
   "name": "python2"
  },
  "language_info": {
   "codemirror_mode": {
    "name": "ipython",
    "version": 2
   },
   "file_extension": ".py",
   "mimetype": "text/x-python",
   "name": "python",
   "nbconvert_exporter": "python",
   "pygments_lexer": "ipython2",
   "version": "2.7.13"
  }
 },
 "nbformat": 4,
 "nbformat_minor": 2
}
