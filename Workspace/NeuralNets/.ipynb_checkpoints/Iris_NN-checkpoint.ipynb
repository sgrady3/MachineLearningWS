{
 "cells": [
  {
   "cell_type": "code",
   "execution_count": 43,
   "metadata": {
    "collapsed": true
   },
   "outputs": [],
   "source": [
    "import numpy as np\n",
    "\n",
    "from sklearn.datasets import load_iris\n",
    "from sklearn.model_selection import train_test_split\n",
    "from sklearn.preprocessing import OneHotEncoder\n",
    "\n",
    "from keras.models import Sequential,load_model\n",
    "from keras.layers import Dense\n",
    "from keras.optimizers import Adam\n",
    "import h5py as h5py\n",
    "import matplotlib.pyplot as plt"
   ]
  },
  {
   "cell_type": "code",
   "execution_count": 2,
   "metadata": {
    "collapsed": true
   },
   "outputs": [],
   "source": [
    "#Load our data set\n",
    "irisData=load_iris()"
   ]
  },
  {
   "cell_type": "code",
   "execution_count": 25,
   "metadata": {},
   "outputs": [
    {
     "name": "stdout",
     "output_type": "stream",
     "text": [
      "('Target Names: ', array(['setosa', 'versicolor', 'virginica'], dtype='|S10'))\n",
      "('Example Data: ', array([[5.1, 3.5, 1.4, 0.2],\n",
      "       [4.9, 3. , 1.4, 0.2],\n",
      "       [4.7, 3.2, 1.3, 0.2],\n",
      "       [4.6, 3.1, 1.5, 0.2]]))\n",
      "('Example Target: ', array([0, 0, 0, 0]))\n"
     ]
    }
   ],
   "source": [
    "print(\"Target Names: \",irisData.target_names)\n",
    "print(\"Example Data: \",irisData.data[:4])\n",
    "print(\"Example Target: \",irisData.target[:4])"
   ]
  },
  {
   "cell_type": "code",
   "execution_count": 5,
   "metadata": {
    "collapsed": true
   },
   "outputs": [],
   "source": [
    "#Get the data and the targets to map the data onto.\n",
    "x=irisData.data\n",
    "y=irisData.target.reshape(-1,1)"
   ]
  },
  {
   "cell_type": "code",
   "execution_count": 6,
   "metadata": {
    "collapsed": true
   },
   "outputs": [],
   "source": [
    "#Create an encoder object \n",
    "encoder=OneHotEncoder(sparse=False)"
   ]
  },
  {
   "cell_type": "code",
   "execution_count": 7,
   "metadata": {
    "collapsed": true
   },
   "outputs": [],
   "source": [
    "#Transform our target data into one hot arrays\n",
    "y=encoder.fit_transform(y)"
   ]
  },
  {
   "cell_type": "code",
   "execution_count": 26,
   "metadata": {},
   "outputs": [
    {
     "name": "stdout",
     "output_type": "stream",
     "text": [
      "0\n",
      "[1. 0. 0.]\n"
     ]
    }
   ],
   "source": [
    "print(irisData.target[0])\n",
    "print(y[0])"
   ]
  },
  {
   "cell_type": "code",
   "execution_count": 21,
   "metadata": {},
   "outputs": [
    {
     "name": "stdout",
     "output_type": "stream",
     "text": [
      "('Number of training: ', 120)\n",
      "('Number of testing: ', 30)\n"
     ]
    }
   ],
   "source": [
    "trainx,testx,trainy,testy=train_test_split(x,y,test_size=.2)\n",
    "print(\"Number of training: \",len(trainx))\n",
    "print(\"Number of testing: \",len(testx))"
   ]
  },
  {
   "cell_type": "code",
   "execution_count": 10,
   "metadata": {
    "collapsed": true
   },
   "outputs": [],
   "source": [
    "model=Sequential()"
   ]
  },
  {
   "cell_type": "code",
   "execution_count": 11,
   "metadata": {
    "collapsed": true
   },
   "outputs": [],
   "source": [
    "model.add(Dense(10,input_shape=(4,),activation=\"relu\",name=\"input_L\"))"
   ]
  },
  {
   "cell_type": "code",
   "execution_count": 12,
   "metadata": {
    "collapsed": true
   },
   "outputs": [],
   "source": [
    "model.add(Dense(10,activation=\"relu\",name=\"hidden_L\"))"
   ]
  },
  {
   "cell_type": "code",
   "execution_count": 13,
   "metadata": {
    "collapsed": true
   },
   "outputs": [],
   "source": [
    "model.add(Dense(3,activation=\"softmax\",name=\"output_L\"))"
   ]
  },
  {
   "cell_type": "code",
   "execution_count": 14,
   "metadata": {
    "collapsed": true
   },
   "outputs": [],
   "source": [
    "optimizer=Adam(lr=.001)\n",
    "model.compile(optimizer,loss=\"categorical_crossentropy\",metrics=[\"accuracy\"])"
   ]
  },
  {
   "cell_type": "code",
   "execution_count": 15,
   "metadata": {},
   "outputs": [
    {
     "name": "stdout",
     "output_type": "stream",
     "text": [
      "_________________________________________________________________\n",
      "Layer (type)                 Output Shape              Param #   \n",
      "=================================================================\n",
      "input_L (Dense)              (None, 10)                50        \n",
      "_________________________________________________________________\n",
      "hidden_L (Dense)             (None, 10)                110       \n",
      "_________________________________________________________________\n",
      "output_L (Dense)             (None, 3)                 33        \n",
      "=================================================================\n",
      "Total params: 193\n",
      "Trainable params: 193\n",
      "Non-trainable params: 0\n",
      "_________________________________________________________________\n",
      "None\n"
     ]
    }
   ],
   "source": [
    "print(model.summary())"
   ]
  },
  {
   "cell_type": "code",
   "execution_count": 16,
   "metadata": {},
   "outputs": [
    {
     "name": "stdout",
     "output_type": "stream",
     "text": [
      "Epoch 1/100\n",
      " - 0s - loss: 1.2090 - acc: 0.3500\n",
      "Epoch 2/100\n",
      " - 0s - loss: 0.9815 - acc: 0.4250\n",
      "Epoch 3/100\n",
      " - 0s - loss: 0.8931 - acc: 0.3667\n",
      "Epoch 4/100\n",
      " - 0s - loss: 0.8206 - acc: 0.4333\n",
      "Epoch 5/100\n",
      " - 0s - loss: 0.7573 - acc: 0.4083\n",
      "Epoch 6/100\n",
      " - 0s - loss: 0.7123 - acc: 0.6167\n",
      "Epoch 7/100\n",
      " - 0s - loss: 0.6699 - acc: 0.6500\n",
      "Epoch 8/100\n",
      " - 0s - loss: 0.6357 - acc: 0.6000\n",
      "Epoch 9/100\n",
      " - 0s - loss: 0.6018 - acc: 0.6667\n",
      "Epoch 10/100\n",
      " - 0s - loss: 0.5697 - acc: 0.8000\n",
      "Epoch 11/100\n",
      " - 0s - loss: 0.5427 - acc: 0.6667\n",
      "Epoch 12/100\n",
      " - 0s - loss: 0.5206 - acc: 0.8083\n",
      "Epoch 13/100\n",
      " - 0s - loss: 0.4979 - acc: 0.7500\n",
      "Epoch 14/100\n",
      " - 0s - loss: 0.4800 - acc: 0.8667\n",
      "Epoch 15/100\n",
      " - 0s - loss: 0.4692 - acc: 0.7417\n",
      "Epoch 16/100\n",
      " - 0s - loss: 0.4537 - acc: 0.9333\n",
      "Epoch 17/100\n",
      " - 0s - loss: 0.4427 - acc: 0.9083\n",
      "Epoch 18/100\n",
      " - 0s - loss: 0.4304 - acc: 0.9167\n",
      "Epoch 19/100\n",
      " - 0s - loss: 0.4170 - acc: 0.9000\n",
      "Epoch 20/100\n",
      " - 0s - loss: 0.4043 - acc: 0.9583\n",
      "Epoch 21/100\n",
      " - 0s - loss: 0.3937 - acc: 0.9250\n",
      "Epoch 22/100\n",
      " - 0s - loss: 0.3829 - acc: 0.9500\n",
      "Epoch 23/100\n",
      " - 0s - loss: 0.3763 - acc: 0.9167\n",
      "Epoch 24/100\n",
      " - 0s - loss: 0.3616 - acc: 0.9583\n",
      "Epoch 25/100\n",
      " - 0s - loss: 0.3566 - acc: 0.9250\n",
      "Epoch 26/100\n",
      " - 0s - loss: 0.3407 - acc: 0.9667\n",
      "Epoch 27/100\n",
      " - 0s - loss: 0.3286 - acc: 0.9500\n",
      "Epoch 28/100\n",
      " - 0s - loss: 0.3184 - acc: 0.9583\n",
      "Epoch 29/100\n",
      " - 0s - loss: 0.3130 - acc: 0.9417\n",
      "Epoch 30/100\n",
      " - 0s - loss: 0.3013 - acc: 0.9583\n",
      "Epoch 31/100\n",
      " - 0s - loss: 0.2904 - acc: 0.9500\n",
      "Epoch 32/100\n",
      " - 0s - loss: 0.2788 - acc: 0.9500\n",
      "Epoch 33/100\n",
      " - 0s - loss: 0.2675 - acc: 0.9583\n",
      "Epoch 34/100\n",
      " - 0s - loss: 0.2604 - acc: 0.9667\n",
      "Epoch 35/100\n",
      " - 0s - loss: 0.2493 - acc: 0.9583\n",
      "Epoch 36/100\n",
      " - 0s - loss: 0.2580 - acc: 0.9333\n",
      "Epoch 37/100\n",
      " - 0s - loss: 0.2357 - acc: 0.9750\n",
      "Epoch 38/100\n",
      " - 0s - loss: 0.2318 - acc: 0.9583\n",
      "Epoch 39/100\n",
      " - 0s - loss: 0.2184 - acc: 0.9667\n",
      "Epoch 40/100\n",
      " - 0s - loss: 0.2125 - acc: 0.9667\n",
      "Epoch 41/100\n",
      " - 0s - loss: 0.2098 - acc: 0.9500\n",
      "Epoch 42/100\n",
      " - 0s - loss: 0.2185 - acc: 0.9333\n",
      "Epoch 43/100\n",
      " - 0s - loss: 0.1965 - acc: 0.9750\n",
      "Epoch 44/100\n",
      " - 0s - loss: 0.1884 - acc: 0.9667\n",
      "Epoch 45/100\n",
      " - 0s - loss: 0.1817 - acc: 0.9750\n",
      "Epoch 46/100\n",
      " - 0s - loss: 0.1759 - acc: 0.9583\n",
      "Epoch 47/100\n",
      " - 0s - loss: 0.1707 - acc: 0.9750\n",
      "Epoch 48/100\n",
      " - 0s - loss: 0.1699 - acc: 0.9500\n",
      "Epoch 49/100\n",
      " - 0s - loss: 0.1645 - acc: 0.9667\n",
      "Epoch 50/100\n",
      " - 0s - loss: 0.1617 - acc: 0.9417\n",
      "Epoch 51/100\n",
      " - 0s - loss: 0.1581 - acc: 0.9500\n",
      "Epoch 52/100\n",
      " - 0s - loss: 0.1592 - acc: 0.9667\n",
      "Epoch 53/100\n",
      " - 0s - loss: 0.1524 - acc: 0.9500\n",
      "Epoch 54/100\n",
      " - 0s - loss: 0.1486 - acc: 0.9583\n",
      "Epoch 55/100\n",
      " - 0s - loss: 0.1437 - acc: 0.9667\n",
      "Epoch 56/100\n",
      " - 0s - loss: 0.1455 - acc: 0.9583\n",
      "Epoch 57/100\n",
      " - 0s - loss: 0.1398 - acc: 0.9750\n",
      "Epoch 58/100\n",
      " - 0s - loss: 0.1419 - acc: 0.9583\n",
      "Epoch 59/100\n",
      " - 0s - loss: 0.1343 - acc: 0.9417\n",
      "Epoch 60/100\n",
      " - 0s - loss: 0.1297 - acc: 0.9667\n",
      "Epoch 61/100\n",
      " - 0s - loss: 0.1275 - acc: 0.9583\n",
      "Epoch 62/100\n",
      " - 0s - loss: 0.1241 - acc: 0.9500\n",
      "Epoch 63/100\n",
      " - 0s - loss: 0.1233 - acc: 0.9750\n",
      "Epoch 64/100\n",
      " - 0s - loss: 0.1252 - acc: 0.9500\n",
      "Epoch 65/100\n",
      " - 0s - loss: 0.1204 - acc: 0.9750\n",
      "Epoch 66/100\n",
      " - 0s - loss: 0.1189 - acc: 0.9667\n",
      "Epoch 67/100\n",
      " - 0s - loss: 0.1192 - acc: 0.9583\n",
      "Epoch 68/100\n",
      " - 0s - loss: 0.1170 - acc: 0.9667\n",
      "Epoch 69/100\n",
      " - 0s - loss: 0.1122 - acc: 0.9750\n",
      "Epoch 70/100\n",
      " - 0s - loss: 0.1149 - acc: 0.9667\n",
      "Epoch 71/100\n",
      " - 0s - loss: 0.1179 - acc: 0.9417\n",
      "Epoch 72/100\n",
      " - 0s - loss: 0.1072 - acc: 0.9750\n",
      "Epoch 73/100\n",
      " - 0s - loss: 0.1072 - acc: 0.9750\n",
      "Epoch 74/100\n",
      " - 0s - loss: 0.1143 - acc: 0.9500\n",
      "Epoch 75/100\n",
      " - 0s - loss: 0.1058 - acc: 0.9750\n",
      "Epoch 76/100\n",
      " - 0s - loss: 0.1059 - acc: 0.9583\n",
      "Epoch 77/100\n",
      " - 0s - loss: 0.1035 - acc: 0.9750\n",
      "Epoch 78/100\n",
      " - 0s - loss: 0.1087 - acc: 0.9583\n",
      "Epoch 79/100\n",
      " - 0s - loss: 0.1080 - acc: 0.9500\n",
      "Epoch 80/100\n",
      " - 0s - loss: 0.1049 - acc: 0.9750\n",
      "Epoch 81/100\n",
      " - 0s - loss: 0.1006 - acc: 0.9583\n",
      "Epoch 82/100\n",
      " - 0s - loss: 0.1057 - acc: 0.9417\n",
      "Epoch 83/100\n",
      " - 0s - loss: 0.1048 - acc: 0.9750\n",
      "Epoch 84/100\n",
      " - 0s - loss: 0.1008 - acc: 0.9500\n",
      "Epoch 85/100\n",
      " - 0s - loss: 0.1116 - acc: 0.9500\n",
      "Epoch 86/100\n",
      " - 0s - loss: 0.0991 - acc: 0.9750\n",
      "Epoch 87/100\n",
      " - 0s - loss: 0.0969 - acc: 0.9750\n",
      "Epoch 88/100\n",
      " - 0s - loss: 0.1095 - acc: 0.9500\n",
      "Epoch 89/100\n",
      " - 0s - loss: 0.0964 - acc: 0.9583\n",
      "Epoch 90/100\n",
      " - 0s - loss: 0.1006 - acc: 0.9750\n",
      "Epoch 91/100\n",
      " - 0s - loss: 0.0896 - acc: 0.9750\n",
      "Epoch 92/100\n",
      " - 0s - loss: 0.0908 - acc: 0.9417\n",
      "Epoch 93/100\n",
      " - 0s - loss: 0.0958 - acc: 0.9750\n",
      "Epoch 94/100\n",
      " - 0s - loss: 0.0915 - acc: 0.9667\n",
      "Epoch 95/100\n",
      " - 0s - loss: 0.0941 - acc: 0.9667\n",
      "Epoch 96/100\n",
      " - 0s - loss: 0.0929 - acc: 0.9583\n",
      "Epoch 97/100\n",
      " - 0s - loss: 0.0917 - acc: 0.9667\n",
      "Epoch 98/100\n",
      " - 0s - loss: 0.0907 - acc: 0.9667\n",
      "Epoch 99/100\n",
      " - 0s - loss: 0.0890 - acc: 0.9667\n",
      "Epoch 100/100\n",
      " - 0s - loss: 0.0970 - acc: 0.9583\n"
     ]
    }
   ],
   "source": [
    "history = model.fit(trainx,trainy,verbose=2,batch_size=5,epochs=100)"
   ]
  },
  {
   "cell_type": "code",
   "execution_count": 17,
   "metadata": {},
   "outputs": [
    {
     "name": "stdout",
     "output_type": "stream",
     "text": [
      "('Test loss:', 0.051259320229291916)\n",
      "('Test accuracy:', 1.0)\n"
     ]
    }
   ],
   "source": [
    "score = model.evaluate(testx, testy, verbose=0)\n",
    "print('Test loss:', score[0])\n",
    "print('Test accuracy:', score[1])"
   ]
  },
  {
   "cell_type": "code",
   "execution_count": 18,
   "metadata": {},
   "outputs": [
    {
     "name": "stdout",
     "output_type": "stream",
     "text": [
      "['acc', 'loss']\n"
     ]
    }
   ],
   "source": [
    "print(history.history.keys())"
   ]
  },
  {
   "cell_type": "code",
   "execution_count": 19,
   "metadata": {},
   "outputs": [
    {
     "name": "stdout",
     "output_type": "stream",
     "text": [
      "('Test loss:', 0.051259320229291916)\n",
      "('Test accuracy:', 1.0)\n"
     ]
    },
    {
     "data": {
      "image/png": "[encoded data removed]",
      "text/plain": [
       "<matplotlib.figure.Figure at 0x7fc309fc7590>"
      ]
     },
     "metadata": {},
     "output_type": "display_data"
    }
   ],
   "source": [
    "print('Test loss:', score[0])\n",
    "print('Test accuracy:', score[1])\n",
    "plt.plot(range(1, 100+1), history.history[\"acc\"])\n",
    "plt.xlabel('Epochs')\n",
    "plt.ylabel('Accuracy')\n",
    "plt.show()"
   ]
  },
  {
   "cell_type": "code",
   "execution_count": 40,
   "metadata": {
    "collapsed": true
   },
   "outputs": [],
   "source": [
    "model.save(\"/home/jovyan/Results/Neural_Networks/Iris_model.h5py\")"
   ]
  },
  {
   "cell_type": "code",
   "execution_count": 41,
   "metadata": {
    "collapsed": true
   },
   "outputs": [],
   "source": [
    "del model"
   ]
  },
  {
   "cell_type": "code",
   "execution_count": 44,
   "metadata": {
    "collapsed": true
   },
   "outputs": [],
   "source": [
    "model=load_model(\"/home/jovyan/Results/Neural_Networks/Iris_model.h5py\")"
   ]
  },
  {
   "cell_type": "code",
   "execution_count": 45,
   "metadata": {},
   "outputs": [
    {
     "name": "stdout",
     "output_type": "stream",
     "text": [
      "versicolor\n",
      "versicolor\n"
     ]
    }
   ],
   "source": [
    "toPredict=testx[4]\n",
    "toPredict=np.expand_dims(toPredict,axis=0)\n",
    "print(irisData.target_names[np.argmax(model.predict(toPredict))])\n",
    "print(irisData.target_names[np.argmax(testy[4])])"
   ]
  },
  {
   "cell_type": "code",
   "execution_count": null,
   "metadata": {
    "collapsed": true
   },
   "outputs": [],
   "source": []
  }
 ],
 "metadata": {
  "kernelspec": {
   "display_name": "Python 2",
   "language": "python",
   "name": "python2"
  },
  "language_info": {
   "codemirror_mode": {
    "name": "ipython",
    "version": 2
   },
   "file_extension": ".py",
   "mimetype": "text/x-python",
   "name": "python",
   "nbconvert_exporter": "python",
   "pygments_lexer": "ipython2",
   "version": "2.7.13"
  }
 },
 "nbformat": 4,
 "nbformat_minor": 2
}
