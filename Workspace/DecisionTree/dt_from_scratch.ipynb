{
 "cells": [
  {
   "cell_type": "code",
   "execution_count": null,
   "metadata": {
    "collapsed": true
   },
   "outputs": [],
   "source": [
    "import pandas as pd\n",
    "import random\n",
    "import numpy as np \n",
    "import math"
   ]
  },
  {
   "cell_type": "code",
   "execution_count": null,
   "metadata": {
    "collapsed": true
   },
   "outputs": [],
   "source": [
    "\n",
    "## Generates random data. Modify the weights matrix to determine which attribute has the most information\n",
    "## The higher the value in weights, the more information that variable would have in the decision tree\n",
    "def generateRandomData(nrows = 1000):\n",
    "\twith open(\"grad_school.csv\",'w') as out:\n",
    "\t\tattributes = [\"GPA(>3.0)\",\"GRE(total > 300)\",\"Good Recommendations(>2)\",\"Masters?\",\"Accepted\"]\n",
    "\t\tout.write(\",\".join(attributes))\n",
    "\t\tout.write(\"\\n\")\n",
    "\t\tfor i in range(nrows):\n",
    "\t\t\trow = np.random.randint(0,2,4)\n",
    "\t\t\tstr_row = map(str,row)\n",
    "\t\t\tweights = [100,200,300,100]\n",
    "\t\t\ttotal = np.dot(weights,row)\n",
    "\t\t\taccepted = 0\n",
    "\t\t\tif total > 300:\n",
    "\t\t\t\taccepted = 1\n",
    "\t\t\tif random.random() < 0.33:\n",
    "\t\t\t\taccepted = abs(accepted - 1)\n",
    "\t\t\tout.write(\",\".join(str_row))\n",
    "\t\t\tout.write(\",\"+str(accepted)+\"\\n\")\n",
    "\t\treturn None\n"
   ]
  },
  {
   "cell_type": "code",
   "execution_count": null,
   "metadata": {
    "collapsed": true
   },
   "outputs": [],
   "source": [
    "## Functions for implementing a decision tree from scratch. We won't be doing this, but perhaps these can be used to assist \n",
    "## in the theory portion. Assumes data has been preprocessed to convert all points into a yes (1) or no (0) value, but we can generalize this later.\n",
    "\n",
    "def entropy(q):\n",
    "\tif (1-q) == 0 or q == 0:\n",
    "\t\treturn 0.0\n",
    "\telse:\n",
    "    return -(q*math.log(q,2)+(1-q)*math.log(1-q,2))"
   ]
  },
  {
   "cell_type": "code",
   "execution_count": null,
   "metadata": {
    "collapsed": true
   },
   "outputs": [],
   "source": [
    "def remainder(data,attribute,goal):\n",
    "\tp = len(data[data[goal] == 1])\n",
    "\tn = len(data[data[goal] == 0])\n",
    "\tr = 0.0\n",
    "\tfor x in [0,1]:\n",
    "\t\tp_a = len(data[(data[attribute] == x) & (data[goal] == 1)])\n",
    "\t\tn_a = len(data[(data[attribute] == x) & (data[goal]== 0)])\n",
    "\t\ttotal_a = float(p_a + n_a)\n",
    "\t\tprob = total_a/(p + n)\n",
    "\t\tq = p_a/total_a\n",
    "\t\tb = entropy(q)\n",
    "\t\tr += (prob * b)\n",
    "    return r"
   ]
  },
  {
   "cell_type": "code",
   "execution_count": null,
   "metadata": {
    "collapsed": true
   },
   "outputs": [],
   "source": [
    "def importance(data,attribute,goal):\n",
    "\tp = len(data[data[goal] == 1])\n",
    "\tn = len(data[data[goal] == 0])\n",
    "\tb = entropy(float(p)/(p+n))\n",
    "\tr = remainder(data,attribute,goal)\n",
    "\tgain = b - r\n",
    "    return gain"
   ]
  }
 ],
 "metadata": {
  "kernelspec": {
   "display_name": "Python 2",
   "language": "python",
   "name": "python2"
  },
  "language_info": {
   "codemirror_mode": {
    "name": "ipython",
    "version": 2
   },
   "file_extension": ".py",
   "mimetype": "text/x-python",
   "name": "python",
   "nbconvert_exporter": "python",
   "pygments_lexer": "ipython2",
   "version": "2.7.13"
  }
 },
 "nbformat": 4,
 "nbformat_minor": 2
}
