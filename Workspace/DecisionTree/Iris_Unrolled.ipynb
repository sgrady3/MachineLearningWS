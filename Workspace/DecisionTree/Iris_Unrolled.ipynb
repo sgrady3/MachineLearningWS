{
 "cells": [
  {
   "cell_type": "code",
   "execution_count": 3,
   "metadata": {
    "collapsed": true
   },
   "outputs": [],
   "source": [
    "#Always load the libraries we will be using\n",
    "from sklearn import tree\n",
    "from sklearn.datasets import load_iris\n",
    "from sklearn.model_selection import train_test_split\n",
    "from sklearn import metrics\n",
    "from sklearn.externals import joblib\n",
    "import graphviz\n",
    "#import helper_func as hp"
   ]
  },
  {
   "cell_type": "code",
   "execution_count": 4,
   "metadata": {
    "collapsed": true
   },
   "outputs": [],
   "source": [
    "#Scikit comes standard with an iris dataset to test on as it is a classic catagorization example\n",
    "iris = load_iris()"
   ]
  },
  {
   "cell_type": "code",
   "execution_count": 5,
   "metadata": {
    "collapsed": true
   },
   "outputs": [],
   "source": [
    "#ask Alex about this\n",
    "X = iris.data\n",
    "y = iris.target"
   ]
  },
  {
   "cell_type": "code",
   "execution_count": 6,
   "metadata": {
    "collapsed": true
   },
   "outputs": [],
   "source": [
    "#Split the data into training and testing sets\n",
    "X_train,X_test,y_train,y_test = train_test_split(X,y,random_state=5)"
   ]
  },
  {
   "cell_type": "code",
   "execution_count": 7,
   "metadata": {
    "collapsed": true
   },
   "outputs": [],
   "source": [
    "#Create our decision tree object and train it using our training data\n",
    "clf = tree.DecisionTreeClassifier()\n",
    "clf = clf.fit(X_train,y_train)"
   ]
  },
  {
   "cell_type": "code",
   "execution_count": 8,
   "metadata": {},
   "outputs": [
    {
     "name": "stdout",
     "output_type": "stream",
     "text": [
      "Accuracy: 0.95\n"
     ]
    }
   ],
   "source": [
    "#Now we will use our decision tree to make predictions on our test data. The accuracy is a percentage of test data that were accuractly predicted\n",
    "pred = clf.predict(X_test)\n",
    "print \"Accuracy: %.2f\" % metrics.accuracy_score(pred,y_test)"
   ]
  },
  {
   "cell_type": "code",
   "execution_count": 9,
   "metadata": {},
   "outputs": [
    {
     "data": {
      "text/plain": [
       "['iris_dt.pkl']"
      ]
     },
     "execution_count": 9,
     "metadata": {},
     "output_type": "execute_result"
    }
   ],
   "source": [
    "#If we want to save our decision tree for later and don't want to retrain it we can save it to a file\n",
    "#hp.saveTree(clf,\"iris_dt.pkl\")\n",
    "joblib.dump(clf,\"iris_dt.pkl\")"
   ]
  },
  {
   "cell_type": "code",
   "execution_count": 10,
   "metadata": {
    "collapsed": true
   },
   "outputs": [],
   "source": [
    "#We can then load a saved decision tree from a file \n",
    "#clf = hp.loadTree(\"iris_dt.pkl\")\n",
    "clf=joblib.load(\"iris_dt.pkl\")"
   ]
  },
  {
   "cell_type": "code",
   "execution_count": 12,
   "metadata": {},
   "outputs": [
    {
     "data": {
      "text/plain": [
       "'Iris.pdf'"
      ]
     },
     "execution_count": 12,
     "metadata": {},
     "output_type": "execute_result"
    }
   ],
   "source": [
    "#We can visualize the decisions our decision tree makes when classifying some input\n",
    "#hp.visualizeTree(clf,iris.feature_names,iris.target_names,\"Iris\")\n",
    "dot_data = tree.export_graphviz(clf,out_file=None, feature_names=iris.feature_names,  \\\n",
    "                         class_names=iris.target_names,  \\\n",
    "                         filled=True, rounded=True,  \\\n",
    "                         special_characters=True) \n",
    "graph = graphviz.Source(dot_data)\n",
    "graph.render(\"Iris\",cleanup=True)"
   ]
  }
 ],
 "metadata": {
  "kernelspec": {
   "display_name": "Python 2",
   "language": "python",
   "name": "python2"
  },
  "language_info": {
   "codemirror_mode": {
    "name": "ipython",
    "version": 2
   },
   "file_extension": ".py",
   "mimetype": "text/x-python",
   "name": "python",
   "nbconvert_exporter": "python",
   "pygments_lexer": "ipython2",
   "version": "2.7.13"
  }
 },
 "nbformat": 4,
 "nbformat_minor": 2
}
