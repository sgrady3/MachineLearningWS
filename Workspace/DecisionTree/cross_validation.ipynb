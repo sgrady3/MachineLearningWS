{
 "cells": [
  {
   "cell_type": "code",
   "execution_count": null,
   "metadata": {},
   "outputs": [],
   "source": [
    "from sklearn import tree\n",
    "from sklearn.datasets import load_iris\n",
    "from sklearn.model_selection import train_test_split,cross_val_score\n",
    "from numpy import mean\n",
    "from sklearn import metrics"
   ]
  },
  {
   "cell_type": "code",
   "execution_count": null,
   "metadata": {},
   "outputs": [],
   "source": [
    "#load up the iris data set, split up the data into training and testing and create the decision tree object\n",
    "iris = load_iris()\n",
    "X = iris.data\n",
    "y = iris.target\n",
    "X_train,X_test,y_train,y_test = train_test_split(X,y)\n",
    "clf = tree.DecisionTreeClassifier()\n",
    "clf_limited = tree.DecisionTreeClassifier(max_depth=3)"
   ]
  },
  {
   "cell_type": "code",
   "execution_count": null,
   "metadata": {},
   "outputs": [],
   "source": [
    "#perform cross validation and obtain the scores\n",
    "cv = 10\n",
    "scores_clf = cross_val_score(clf, X_train, y_train, cv=cv, scoring='accuracy')\n",
    "scores_clf_limited = cross_val_score(clf_limited, X_train, y_train, cv=cv, scoring='accuracy')"
   ]
  },
  {
   "cell_type": "code",
   "execution_count": null,
   "metadata": {},
   "outputs": [],
   "source": [
    "mean_unlimited = mean(scores_clf)\n",
    "mean_limited = mean(scores_clf_limited)\n",
    "\n",
    "\n",
    "print(\"Average accuracy score from %d-fold cross validation with no max_depth: %.2f\"%(cv,mean_unlimited))\n",
    "print(\"Average accuracy score from %d-fold cross validation with max_depth = 3: %.2f\"%(cv,mean_limited))\n",
    "\n",
    "if(mean_unlimited > mean_limited):\n",
    "    clf = clf.fit(X_train,y_train)\n",
    "    pred = clf.predict(X_test)\n",
    "    print(\"Final accuracy score with unlimited tree depth on test set: %.2f\" % metrics.accuracy_score(pred,y_test))\n",
    "else:\n",
    "    clf_limited = clf_limited.fit(X_train,y_train)\n",
    "    pred = clf_limited.predict(X_test)\n",
    "    print(\"Final accuracy score with limited tree depth on test set: %.2f\" % metrics.accuracy_score(pred,y_test))\n"
   ]
  },
  {
   "cell_type": "code",
   "execution_count": null,
   "metadata": {},
   "outputs": [],
   "source": []
  }
 ],
 "metadata": {
  "kernelspec": {
   "display_name": "Python 2",
   "language": "python",
   "name": "python2"
  },
  "language_info": {
   "codemirror_mode": {
    "name": "ipython",
    "version": 3
   },
   "file_extension": ".py",
   "mimetype": "text/x-python",
   "name": "python",
   "nbconvert_exporter": "python",
   "pygments_lexer": "ipython3",
   "version": "3.5.2"
  }
 },
 "nbformat": 4,
 "nbformat_minor": 2
}
