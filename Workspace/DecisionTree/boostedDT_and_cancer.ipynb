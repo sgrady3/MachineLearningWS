{
 "cells": [
  {
   "cell_type": "code",
   "execution_count": 1,
   "metadata": {
    "collapsed": true
   },
   "outputs": [],
   "source": [
    "#Load all the libraries we will be using\n",
    "from sklearn import tree\n",
    "from sklearn.datasets import load_iris\n",
    "from sklearn.model_selection import train_test_split\n",
    "from sklearn.ensemble import AdaBoostClassifier\n",
    "from sklearn import metrics\n",
    "import pandas as pd\n",
    "import numpy as np \n",
    "import matplotlib.pyplot as plt \n"
   ]
  },
  {
   "cell_type": "code",
   "execution_count": 2,
   "metadata": {
    "collapsed": true
   },
   "outputs": [],
   "source": [
    "#load the breast cancer gene expression dataset into a dataframe\n",
    "dataframe = pd.read_csv('Data/Cancer/filter_set_gcrma.csv')"
   ]
  },
  {
   "cell_type": "code",
   "execution_count": 3,
   "metadata": {
    "collapsed": true
   },
   "outputs": [],
   "source": [
    "#Get the values of the gene expression data\n",
    "array = dataframe.values"
   ]
  },
  {
   "cell_type": "code",
   "execution_count": 4,
   "metadata": {
    "collapsed": true
   },
   "outputs": [],
   "source": [
    "#create an array for the genes and an array for the labels\n",
    "X= array[:,0:1256] ##1256 variable genes\n",
    "y=array[:,1321] ##labels"
   ]
  },
  {
   "cell_type": "code",
   "execution_count": 5,
   "metadata": {
    "collapsed": true
   },
   "outputs": [],
   "source": [
    "##split data set into train and test datasets\n",
    "X_train, X_test, y_train, y_test = train_test_split(X, y, test_size=0.2,random_state=7)"
   ]
  },
  {
   "cell_type": "code",
   "execution_count": 6,
   "metadata": {
    "collapsed": true
   },
   "outputs": [],
   "source": [
    "## Create a base decision tree.\n",
    "clf = tree.DecisionTreeClassifier(class_weight=\"balanced\")"
   ]
  },
  {
   "cell_type": "code",
   "execution_count": 7,
   "metadata": {
    "collapsed": true
   },
   "outputs": [],
   "source": [
    "# Create a boosted decision tree\n",
    "clf_boosted = AdaBoostClassifier(base_estimator=clf,random_state = 7)"
   ]
  },
  {
   "cell_type": "code",
   "execution_count": 8,
   "metadata": {},
   "outputs": [
    {
     "name": "stdout",
     "output_type": "stream",
     "text": [
      "Accuracy: 0.84\n"
     ]
    }
   ],
   "source": [
    "# Train and determine accuracy of boosted decision tree\n",
    "clf_boosted.fit(X_train,y_train)\n",
    "y_pred=clf_boosted.predict(X_test)\n",
    "y_pred_prob=clf_boosted.predict_proba(X_test)\n",
    "print \"Accuracy: %.2f\"  % metrics.accuracy_score(y_test, y_pred)"
   ]
  },
  {
   "cell_type": "code",
   "execution_count": 9,
   "metadata": {},
   "outputs": [
    {
     "name": "stdout",
     "output_type": "stream",
     "text": [
      "[[13  3]\n",
      " [ 6 36]]\n"
     ]
    }
   ],
   "source": [
    "## Print confusion matrix.\n",
    "## Contains True Positives (TP), True Negatives (TN), False Positives (FP), and False Negatives (FP)\n",
    "cfs = metrics.confusion_matrix(y_test, y_pred)\n",
    "print cfs\n",
    "TP = cfs[1, 1]\n",
    "TN = cfs[0, 0]\n",
    "FP = cfs[0, 1]\n",
    "FN = cfs[1, 0]"
   ]
  },
  {
   "cell_type": "code",
   "execution_count": 10,
   "metadata": {},
   "outputs": [
    {
     "name": "stdout",
     "output_type": "stream",
     "text": [
      "Recall: 0.86\n"
     ]
    }
   ],
   "source": [
    "## Get the recall, which is the TP/(TP+FN)\n",
    "print \"Recall: %.2f\"  % metrics.recall_score(y_test, y_pred)"
   ]
  },
  {
   "cell_type": "code",
   "execution_count": 11,
   "metadata": {},
   "outputs": [
    {
     "name": "stdout",
     "output_type": "stream",
     "text": [
      "Precision: 0.92\n"
     ]
    }
   ],
   "source": [
    "## Get the precision, which is the TP/(TP+FP)\n",
    "print \"Precision: %.2f\"  % metrics.precision_score(y_test, y_pred)"
   ]
  },
  {
   "cell_type": "code",
   "execution_count": 12,
   "metadata": {},
   "outputs": [
    {
     "name": "stdout",
     "output_type": "stream",
     "text": [
      "0.834821428571\n"
     ]
    }
   ],
   "source": [
    "print metrics.roc_auc_score(y_test, y_pred_prob[:,1])"
   ]
  },
  {
   "cell_type": "code",
   "execution_count": 13,
   "metadata": {},
   "outputs": [
    {
     "data": {
      "image/png": "[encoded data removed]",
      "text/plain": [
       "<matplotlib.figure.Figure at 0x7f215b433290>"
      ]
     },
     "metadata": {},
     "output_type": "display_data"
    }
   ],
   "source": [
    "# Perform a ROC test and show plot\n",
    "fpr, tpr, thresholds = metrics.roc_curve(y_test, y_pred_prob[:,1])\n",
    "plt.plot(fpr, tpr)\n",
    "plt.xlim([0.0, 1.0])\n",
    "plt.ylim([0.0, 1.0])\n",
    "plt.rcParams['font.size'] = 12\n",
    "plt.title('ROC curve for cancer classifier')\n",
    "plt.xlabel('False Positive Rate (1 - Specificity)')\n",
    "plt.ylabel('True Positive Rate (Sensitivity)')\n",
    "plt.grid(True)\n",
    "plt.show()"
   ]
  },
  {
   "cell_type": "code",
   "execution_count": 14,
   "metadata": {},
   "outputs": [
    {
     "name": "stderr",
     "output_type": "stream",
     "text": [
      "/home/stephen/miniconda2/lib/python2.7/site-packages/sklearn/model_selection/_split.py:2026: FutureWarning: From version 0.21, test_size will always complement train_size unless both are specified.\n",
      "  FutureWarning)\n"
     ]
    },
    {
     "data": {
      "image/png": "[encoded data removed]",
      "text/plain": [
       "<matplotlib.figure.Figure at 0x7f215778b690>"
      ]
     },
     "metadata": {},
     "output_type": "display_data"
    }
   ],
   "source": [
    "## Compare performance to \n",
    "boosted_scores = []\n",
    "scores = []\n",
    "train_size = np.arange(0.01,0.5,0.01)\n",
    "for i in train_size:\n",
    "\tX_train, X_test, y_train, y_test = train_test_split(X, y, train_size=i, random_state=7)\n",
    "\tclf_boosted= clf_boosted.fit(X_train,y_train)\n",
    "\tpred = clf_boosted.predict(X_test)\n",
    "\tboosted_scores.append(metrics.accuracy_score(pred,y_test))\n",
    "\tclf = clf.fit(X_train,y_train)\n",
    "\tpred = clf.predict(X_test)\n",
    "\tscores.append(metrics.accuracy_score(pred,y_test))\n",
    "\n",
    "reg, = plt.plot(train_size,scores,\"-\",label=\"Decision Tree\")\n",
    "boost, = plt.plot(train_size,boosted_scores,\"-\",color=\"red\",label=\"Boosted\")\n",
    "plt.title('Decision Tree Performance:\\nVarying size of Training Data')\n",
    "plt.xlabel('Training Set Size')\n",
    "plt.ylabel('Accuracy')\n",
    "plt.legend(handles=[reg,boost])\n",
    "plt.show()"
   ]
  },
  {
   "cell_type": "code",
   "execution_count": null,
   "metadata": {
    "collapsed": true
   },
   "outputs": [],
   "source": []
  }
 ],
 "metadata": {
  "kernelspec": {
   "display_name": "Python 2",
   "language": "python",
   "name": "python2"
  },
  "language_info": {
   "codemirror_mode": {
    "name": "ipython",
    "version": 2
   },
   "file_extension": ".py",
   "mimetype": "text/x-python",
   "name": "python",
   "nbconvert_exporter": "python",
   "pygments_lexer": "ipython2",
   "version": "2.7.13"
  }
 },
 "nbformat": 4,
 "nbformat_minor": 2
}
